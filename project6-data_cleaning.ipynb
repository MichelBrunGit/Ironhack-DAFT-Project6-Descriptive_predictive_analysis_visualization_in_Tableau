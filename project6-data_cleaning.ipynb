{
 "cells": [
  {
   "cell_type": "code",
   "execution_count": 81,
   "id": "71a02d36",
   "metadata": {},
   "outputs": [
    {
     "data": {
      "text/html": [
       "<div>\n",
       "<style scoped>\n",
       "    .dataframe tbody tr th:only-of-type {\n",
       "        vertical-align: middle;\n",
       "    }\n",
       "\n",
       "    .dataframe tbody tr th {\n",
       "        vertical-align: top;\n",
       "    }\n",
       "\n",
       "    .dataframe thead th {\n",
       "        text-align: right;\n",
       "    }\n",
       "</style>\n",
       "<table border=\"1\" class=\"dataframe\">\n",
       "  <thead>\n",
       "    <tr style=\"text-align: right;\">\n",
       "      <th></th>\n",
       "      <th>Debtor</th>\n",
       "      <th>Creditor</th>\n",
       "      <th>Type</th>\n",
       "      <th>Reference</th>\n",
       "      <th>Initial Amount</th>\n",
       "      <th>Currency</th>\n",
       "      <th>Bank</th>\n",
       "      <th>Charges</th>\n",
       "      <th>Date</th>\n",
       "      <th>Time (local)</th>\n",
       "      <th>Status</th>\n",
       "    </tr>\n",
       "  </thead>\n",
       "  <tbody>\n",
       "    <tr>\n",
       "      <th>0</th>\n",
       "      <td>Alpha Inc</td>\n",
       "      <td>ACME INVEST.</td>\n",
       "      <td>fin.101</td>\n",
       "      <td>REF211</td>\n",
       "      <td>10000.0</td>\n",
       "      <td>USD</td>\n",
       "      <td>CHASUS3AXXX</td>\n",
       "      <td>0.020</td>\n",
       "      <td>2021-03-16</td>\n",
       "      <td>08:15:00</td>\n",
       "      <td>NEW</td>\n",
       "    </tr>\n",
       "    <tr>\n",
       "      <th>1</th>\n",
       "      <td>Alpha Inc</td>\n",
       "      <td>ACME INVEST.</td>\n",
       "      <td>fin.101</td>\n",
       "      <td>REF211</td>\n",
       "      <td>10000.0</td>\n",
       "      <td>USD</td>\n",
       "      <td>BINAADADXXX</td>\n",
       "      <td>0.015</td>\n",
       "      <td>2021-03-17</td>\n",
       "      <td>15:45:00</td>\n",
       "      <td>COMPLETED</td>\n",
       "    </tr>\n",
       "    <tr>\n",
       "      <th>2</th>\n",
       "      <td>Alpha Inc</td>\n",
       "      <td>ACME ONE CORP.</td>\n",
       "      <td>fin.101</td>\n",
       "      <td>REFTEST01</td>\n",
       "      <td>4537.0</td>\n",
       "      <td>USD</td>\n",
       "      <td>CHASUS3AXXX</td>\n",
       "      <td>0.020</td>\n",
       "      <td>2021-03-16</td>\n",
       "      <td>00:00:00</td>\n",
       "      <td>NEW</td>\n",
       "    </tr>\n",
       "    <tr>\n",
       "      <th>3</th>\n",
       "      <td>Alpha Inc</td>\n",
       "      <td>ACME ONE CORP.</td>\n",
       "      <td>fin.101</td>\n",
       "      <td>REFTEST01</td>\n",
       "      <td>4537.0</td>\n",
       "      <td>USD</td>\n",
       "      <td>BINAADADXXX</td>\n",
       "      <td>0.010</td>\n",
       "      <td>2021-03-16</td>\n",
       "      <td>12:45:00</td>\n",
       "      <td>PENDING</td>\n",
       "    </tr>\n",
       "    <tr>\n",
       "      <th>4</th>\n",
       "      <td>Alpha Inc</td>\n",
       "      <td>ACME ONE CORP.</td>\n",
       "      <td>fin.101</td>\n",
       "      <td>REFTEST01</td>\n",
       "      <td>4537.0</td>\n",
       "      <td>USD</td>\n",
       "      <td>BSJUARBJXXX</td>\n",
       "      <td>0.020</td>\n",
       "      <td>2021-03-18</td>\n",
       "      <td>14:15:00</td>\n",
       "      <td>COMPLETED</td>\n",
       "    </tr>\n",
       "  </tbody>\n",
       "</table>\n",
       "</div>"
      ],
      "text/plain": [
       "      Debtor         Creditor     Type  Reference  Initial Amount Currency  \\\n",
       "0  Alpha Inc     ACME INVEST.  fin.101     REF211         10000.0      USD   \n",
       "1  Alpha Inc     ACME INVEST.  fin.101     REF211         10000.0      USD   \n",
       "2  Alpha Inc  ACME ONE CORP.   fin.101  REFTEST01          4537.0      USD   \n",
       "3  Alpha Inc  ACME ONE CORP.   fin.101  REFTEST01          4537.0      USD   \n",
       "4  Alpha Inc  ACME ONE CORP.   fin.101  REFTEST01          4537.0      USD   \n",
       "\n",
       "          Bank  Charges       Date Time (local)     Status  \n",
       "0  CHASUS3AXXX    0.020 2021-03-16     08:15:00        NEW  \n",
       "1  BINAADADXXX    0.015 2021-03-17     15:45:00  COMPLETED  \n",
       "2  CHASUS3AXXX    0.020 2021-03-16     00:00:00        NEW  \n",
       "3  BINAADADXXX    0.010 2021-03-16     12:45:00    PENDING  \n",
       "4  BSJUARBJXXX    0.020 2021-03-18     14:15:00  COMPLETED  "
      ]
     },
     "execution_count": 81,
     "metadata": {},
     "output_type": "execute_result"
    }
   ],
   "source": [
    "import pandas as pd\n",
    "#Because dataset is big (29 columns) we need to show every columns using pd\n",
    "pd.set_option('max_columns', None)\n",
    "import seaborn as sns\n",
    "import numpy as np\n",
    "import matplotlib.pyplot as plt\n",
    "file = pd.read_excel(r\"C:\\Users\\Michel\\git2\\Ironhack-DAFT-Project6-Descriptive_predictive_analysis_visualization_in_Tableau\\Payments.xlsx\")#,sep=';')\n",
    "file.head()\n",
    "#We make a copy of the file and work on it\n",
    "file.head()\n"
   ]
  },
  {
   "cell_type": "markdown",
   "id": "bcc6e9e6",
   "metadata": {},
   "source": [
    "First we have a quick preview at the data set with head() function.\n",
    "Now let's look at the info of the file."
   ]
  },
  {
   "cell_type": "code",
   "execution_count": 82,
   "id": "b1e20584",
   "metadata": {
    "scrolled": true
   },
   "outputs": [
    {
     "name": "stdout",
     "output_type": "stream",
     "text": [
      "<class 'pandas.core.frame.DataFrame'>\n",
      "RangeIndex: 90 entries, 0 to 89\n",
      "Data columns (total 11 columns):\n",
      " #   Column          Non-Null Count  Dtype         \n",
      "---  ------          --------------  -----         \n",
      " 0   Debtor          90 non-null     object        \n",
      " 1   Creditor        90 non-null     object        \n",
      " 2   Type            90 non-null     object        \n",
      " 3   Reference       90 non-null     object        \n",
      " 4   Initial Amount  90 non-null     float64       \n",
      " 5   Currency        90 non-null     object        \n",
      " 6   Bank            90 non-null     object        \n",
      " 7   Charges         90 non-null     float64       \n",
      " 8   Date            90 non-null     datetime64[ns]\n",
      " 9   Time (local)    90 non-null     object        \n",
      " 10  Status          90 non-null     object        \n",
      "dtypes: datetime64[ns](1), float64(2), object(8)\n",
      "memory usage: 7.9+ KB\n"
     ]
    }
   ],
   "source": [
    "file.info()"
   ]
  },
  {
   "cell_type": "code",
   "execution_count": 83,
   "id": "954d72d1",
   "metadata": {},
   "outputs": [
    {
     "data": {
      "text/plain": [
       "(90, 11)"
      ]
     },
     "execution_count": 83,
     "metadata": {},
     "output_type": "execute_result"
    }
   ],
   "source": [
    "file.shape"
   ]
  },
  {
   "cell_type": "code",
   "execution_count": 118,
   "id": "577d9d5a",
   "metadata": {
    "scrolled": true
   },
   "outputs": [
    {
     "data": {
      "text/html": [
       "<div>\n",
       "<style scoped>\n",
       "    .dataframe tbody tr th:only-of-type {\n",
       "        vertical-align: middle;\n",
       "    }\n",
       "\n",
       "    .dataframe tbody tr th {\n",
       "        vertical-align: top;\n",
       "    }\n",
       "\n",
       "    .dataframe thead th {\n",
       "        text-align: right;\n",
       "    }\n",
       "</style>\n",
       "<table border=\"1\" class=\"dataframe\">\n",
       "  <thead>\n",
       "    <tr style=\"text-align: right;\">\n",
       "      <th></th>\n",
       "      <th>Debtor</th>\n",
       "      <th>Creditor</th>\n",
       "      <th>Reference</th>\n",
       "      <th>Currency</th>\n",
       "      <th>Bank</th>\n",
       "      <th>Date</th>\n",
       "      <th>Time (local)</th>\n",
       "      <th>Status</th>\n",
       "    </tr>\n",
       "  </thead>\n",
       "  <tbody>\n",
       "    <tr>\n",
       "      <th>0</th>\n",
       "      <td>Alpha Inc</td>\n",
       "      <td>ACME INVEST.</td>\n",
       "      <td>REF211</td>\n",
       "      <td>USD</td>\n",
       "      <td>CHASUS3AXXX</td>\n",
       "      <td>2021-03-16</td>\n",
       "      <td>08:15:00</td>\n",
       "      <td>NEW</td>\n",
       "    </tr>\n",
       "    <tr>\n",
       "      <th>1</th>\n",
       "      <td>Alpha Inc</td>\n",
       "      <td>ACME INVEST.</td>\n",
       "      <td>REF211</td>\n",
       "      <td>USD</td>\n",
       "      <td>BINAADADXXX</td>\n",
       "      <td>2021-03-17</td>\n",
       "      <td>15:45:00</td>\n",
       "      <td>COMPLETED</td>\n",
       "    </tr>\n",
       "    <tr>\n",
       "      <th>2</th>\n",
       "      <td>Alpha Inc</td>\n",
       "      <td>ACME ONE CORP.</td>\n",
       "      <td>REFTEST01</td>\n",
       "      <td>USD</td>\n",
       "      <td>CHASUS3AXXX</td>\n",
       "      <td>2021-03-16</td>\n",
       "      <td>00:00:00</td>\n",
       "      <td>NEW</td>\n",
       "    </tr>\n",
       "    <tr>\n",
       "      <th>3</th>\n",
       "      <td>Alpha Inc</td>\n",
       "      <td>ACME ONE CORP.</td>\n",
       "      <td>REFTEST01</td>\n",
       "      <td>USD</td>\n",
       "      <td>BINAADADXXX</td>\n",
       "      <td>2021-03-16</td>\n",
       "      <td>12:45:00</td>\n",
       "      <td>PENDING</td>\n",
       "    </tr>\n",
       "    <tr>\n",
       "      <th>4</th>\n",
       "      <td>Alpha Inc</td>\n",
       "      <td>ACME ONE CORP.</td>\n",
       "      <td>REFTEST01</td>\n",
       "      <td>USD</td>\n",
       "      <td>BSJUARBJXXX</td>\n",
       "      <td>2021-03-18</td>\n",
       "      <td>14:15:00</td>\n",
       "      <td>COMPLETED</td>\n",
       "    </tr>\n",
       "  </tbody>\n",
       "</table>\n",
       "</div>"
      ],
      "text/plain": [
       "      Debtor         Creditor  Reference Currency         Bank       Date  \\\n",
       "0  Alpha Inc     ACME INVEST.     REF211      USD  CHASUS3AXXX 2021-03-16   \n",
       "1  Alpha Inc     ACME INVEST.     REF211      USD  BINAADADXXX 2021-03-17   \n",
       "2  Alpha Inc  ACME ONE CORP.   REFTEST01      USD  CHASUS3AXXX 2021-03-16   \n",
       "3  Alpha Inc  ACME ONE CORP.   REFTEST01      USD  BINAADADXXX 2021-03-16   \n",
       "4  Alpha Inc  ACME ONE CORP.   REFTEST01      USD  BSJUARBJXXX 2021-03-18   \n",
       "\n",
       "  Time (local)     Status  \n",
       "0     08:15:00        NEW  \n",
       "1     15:45:00  COMPLETED  \n",
       "2     00:00:00        NEW  \n",
       "3     12:45:00    PENDING  \n",
       "4     14:15:00  COMPLETED  "
      ]
     },
     "execution_count": 118,
     "metadata": {},
     "output_type": "execute_result"
    }
   ],
   "source": [
    "## We look for non-numeric data\n",
    "cat_df = file.select_dtypes(include=['object','datetime'])\n",
    "cat_df.head(5)"
   ]
  },
  {
   "cell_type": "code",
   "execution_count": 115,
   "id": "c6b66f04",
   "metadata": {},
   "outputs": [
    {
     "data": {
      "text/html": [
       "<div>\n",
       "<style scoped>\n",
       "    .dataframe tbody tr th:only-of-type {\n",
       "        vertical-align: middle;\n",
       "    }\n",
       "\n",
       "    .dataframe tbody tr th {\n",
       "        vertical-align: top;\n",
       "    }\n",
       "\n",
       "    .dataframe thead th {\n",
       "        text-align: right;\n",
       "    }\n",
       "</style>\n",
       "<table border=\"1\" class=\"dataframe\">\n",
       "  <thead>\n",
       "    <tr style=\"text-align: right;\">\n",
       "      <th></th>\n",
       "      <th>Initial Amount</th>\n",
       "      <th>Charges</th>\n",
       "    </tr>\n",
       "  </thead>\n",
       "  <tbody>\n",
       "    <tr>\n",
       "      <th>0</th>\n",
       "      <td>10000.0</td>\n",
       "      <td>0.020</td>\n",
       "    </tr>\n",
       "    <tr>\n",
       "      <th>1</th>\n",
       "      <td>10000.0</td>\n",
       "      <td>0.015</td>\n",
       "    </tr>\n",
       "    <tr>\n",
       "      <th>2</th>\n",
       "      <td>4537.0</td>\n",
       "      <td>0.020</td>\n",
       "    </tr>\n",
       "    <tr>\n",
       "      <th>3</th>\n",
       "      <td>4537.0</td>\n",
       "      <td>0.010</td>\n",
       "    </tr>\n",
       "    <tr>\n",
       "      <th>4</th>\n",
       "      <td>4537.0</td>\n",
       "      <td>0.020</td>\n",
       "    </tr>\n",
       "  </tbody>\n",
       "</table>\n",
       "</div>"
      ],
      "text/plain": [
       "   Initial Amount  Charges\n",
       "0         10000.0    0.020\n",
       "1         10000.0    0.015\n",
       "2          4537.0    0.020\n",
       "3          4537.0    0.010\n",
       "4          4537.0    0.020"
      ]
     },
     "execution_count": 115,
     "metadata": {},
     "output_type": "execute_result"
    }
   ],
   "source": [
    "# We look for numeric data\n",
    "num_df = file.select_dtypes(exclude=['object','datetime'])\n",
    "num_df.head(5)"
   ]
  },
  {
   "cell_type": "code",
   "execution_count": 97,
   "id": "ceace7fb",
   "metadata": {},
   "outputs": [],
   "source": [
    "def printColumnTypes(non_numeric_df, numeric_df):\n",
    "    '''separates non-numeric and numeric columns'''\n",
    "    print(\"Non-Numeric columns:\")\n",
    "    for col in non_numeric_df:\n",
    "        print(f\"{col}\")\n",
    "    print(\"\")\n",
    "    print(\"Numeric columns:\")\n",
    "    for col in numeric_df:\n",
    "        print(f\"{col}\")"
   ]
  },
  {
   "cell_type": "code",
   "execution_count": 98,
   "id": "0170dea6",
   "metadata": {},
   "outputs": [
    {
     "name": "stdout",
     "output_type": "stream",
     "text": [
      "Non-Numeric columns:\n",
      "Debtor\n",
      "Creditor\n",
      "Type\n",
      "Reference\n",
      "Currency\n",
      "Bank\n",
      "Date\n",
      "Time (local)\n",
      "Status\n",
      "\n",
      "Numeric columns:\n",
      "Initial Amount\n",
      "Charges\n"
     ]
    }
   ],
   "source": [
    "printColumnTypes(cat_df, num_df)"
   ]
  },
  {
   "cell_type": "code",
   "execution_count": 99,
   "id": "1102eb8d",
   "metadata": {},
   "outputs": [
    {
     "data": {
      "text/plain": [
       "False"
      ]
     },
     "execution_count": 99,
     "metadata": {},
     "output_type": "execute_result"
    }
   ],
   "source": [
    "## Check for duplicates\n",
    "file.duplicated().any()"
   ]
  },
  {
   "cell_type": "code",
   "execution_count": 100,
   "id": "e0b50978",
   "metadata": {},
   "outputs": [
    {
     "data": {
      "text/html": [
       "<div>\n",
       "<style scoped>\n",
       "    .dataframe tbody tr th:only-of-type {\n",
       "        vertical-align: middle;\n",
       "    }\n",
       "\n",
       "    .dataframe tbody tr th {\n",
       "        vertical-align: top;\n",
       "    }\n",
       "\n",
       "    .dataframe thead th {\n",
       "        text-align: right;\n",
       "    }\n",
       "</style>\n",
       "<table border=\"1\" class=\"dataframe\">\n",
       "  <thead>\n",
       "    <tr style=\"text-align: right;\">\n",
       "      <th></th>\n",
       "      <th>Debtor</th>\n",
       "      <th>Creditor</th>\n",
       "      <th>Type</th>\n",
       "      <th>Reference</th>\n",
       "      <th>Initial Amount</th>\n",
       "      <th>Currency</th>\n",
       "      <th>Bank</th>\n",
       "      <th>Charges</th>\n",
       "      <th>Date</th>\n",
       "      <th>Time (local)</th>\n",
       "      <th>Status</th>\n",
       "    </tr>\n",
       "  </thead>\n",
       "  <tbody>\n",
       "    <tr>\n",
       "      <th>1</th>\n",
       "      <td>Alpha Inc</td>\n",
       "      <td>ACME INVEST.</td>\n",
       "      <td>fin.101</td>\n",
       "      <td>REF211</td>\n",
       "      <td>10000.0</td>\n",
       "      <td>USD</td>\n",
       "      <td>BINAADADXXX</td>\n",
       "      <td>0.015</td>\n",
       "      <td>2021-03-17</td>\n",
       "      <td>15:45:00</td>\n",
       "      <td>COMPLETED</td>\n",
       "    </tr>\n",
       "    <tr>\n",
       "      <th>3</th>\n",
       "      <td>Alpha Inc</td>\n",
       "      <td>ACME ONE CORP.</td>\n",
       "      <td>fin.101</td>\n",
       "      <td>REFTEST01</td>\n",
       "      <td>4537.0</td>\n",
       "      <td>USD</td>\n",
       "      <td>BINAADADXXX</td>\n",
       "      <td>0.010</td>\n",
       "      <td>2021-03-16</td>\n",
       "      <td>12:45:00</td>\n",
       "      <td>PENDING</td>\n",
       "    </tr>\n",
       "    <tr>\n",
       "      <th>4</th>\n",
       "      <td>Alpha Inc</td>\n",
       "      <td>ACME ONE CORP.</td>\n",
       "      <td>fin.101</td>\n",
       "      <td>REFTEST01</td>\n",
       "      <td>4537.0</td>\n",
       "      <td>USD</td>\n",
       "      <td>BSJUARBJXXX</td>\n",
       "      <td>0.020</td>\n",
       "      <td>2021-03-18</td>\n",
       "      <td>14:15:00</td>\n",
       "      <td>COMPLETED</td>\n",
       "    </tr>\n",
       "    <tr>\n",
       "      <th>5</th>\n",
       "      <td>Alpha Inc</td>\n",
       "      <td>ACME PRIVATE.</td>\n",
       "      <td>fin.101</td>\n",
       "      <td>REF211</td>\n",
       "      <td>1000000.0</td>\n",
       "      <td>USD</td>\n",
       "      <td>CHASUS3AXXX</td>\n",
       "      <td>0.010</td>\n",
       "      <td>2021-11-02</td>\n",
       "      <td>08:34:00</td>\n",
       "      <td>NEW</td>\n",
       "    </tr>\n",
       "    <tr>\n",
       "      <th>6</th>\n",
       "      <td>Alpha Inc</td>\n",
       "      <td>ACME PRIVATE.</td>\n",
       "      <td>fin.101</td>\n",
       "      <td>REF211</td>\n",
       "      <td>1000000.0</td>\n",
       "      <td>EUR</td>\n",
       "      <td>AGRIFRPPXXX</td>\n",
       "      <td>0.015</td>\n",
       "      <td>2021-11-03</td>\n",
       "      <td>12:40:00</td>\n",
       "      <td>PENDING</td>\n",
       "    </tr>\n",
       "    <tr>\n",
       "      <th>...</th>\n",
       "      <td>...</td>\n",
       "      <td>...</td>\n",
       "      <td>...</td>\n",
       "      <td>...</td>\n",
       "      <td>...</td>\n",
       "      <td>...</td>\n",
       "      <td>...</td>\n",
       "      <td>...</td>\n",
       "      <td>...</td>\n",
       "      <td>...</td>\n",
       "      <td>...</td>\n",
       "    </tr>\n",
       "    <tr>\n",
       "      <th>85</th>\n",
       "      <td>Alpha Inc</td>\n",
       "      <td>ALT-2 INC</td>\n",
       "      <td>fin.101</td>\n",
       "      <td>REFD202103</td>\n",
       "      <td>17430.0</td>\n",
       "      <td>USD</td>\n",
       "      <td>CHASUS3AXXX</td>\n",
       "      <td>0.020</td>\n",
       "      <td>2021-07-12</td>\n",
       "      <td>15:41:00</td>\n",
       "      <td>PENDING</td>\n",
       "    </tr>\n",
       "    <tr>\n",
       "      <th>86</th>\n",
       "      <td>Alpha Inc</td>\n",
       "      <td>ALT-2 INC</td>\n",
       "      <td>fin.101</td>\n",
       "      <td>REFD202103</td>\n",
       "      <td>17430.0</td>\n",
       "      <td>USD</td>\n",
       "      <td>CHASUS3AXXX</td>\n",
       "      <td>0.010</td>\n",
       "      <td>2021-07-13</td>\n",
       "      <td>18:10:00</td>\n",
       "      <td>DELIVERED</td>\n",
       "    </tr>\n",
       "    <tr>\n",
       "      <th>87</th>\n",
       "      <td>Alpha Inc</td>\n",
       "      <td>Beta Corp</td>\n",
       "      <td>fin.101</td>\n",
       "      <td>REF001</td>\n",
       "      <td>12000.0</td>\n",
       "      <td>USD</td>\n",
       "      <td>CHASUS3AXXX</td>\n",
       "      <td>0.010</td>\n",
       "      <td>2021-10-05</td>\n",
       "      <td>12:43:00</td>\n",
       "      <td>NEW</td>\n",
       "    </tr>\n",
       "    <tr>\n",
       "      <th>88</th>\n",
       "      <td>Alpha Inc</td>\n",
       "      <td>Beta Corp</td>\n",
       "      <td>fin.101</td>\n",
       "      <td>REF001</td>\n",
       "      <td>12000.0</td>\n",
       "      <td>USD</td>\n",
       "      <td>CHASUS3AXXX</td>\n",
       "      <td>0.020</td>\n",
       "      <td>2021-10-05</td>\n",
       "      <td>14:32:00</td>\n",
       "      <td>PENDING</td>\n",
       "    </tr>\n",
       "    <tr>\n",
       "      <th>89</th>\n",
       "      <td>Alpha Inc</td>\n",
       "      <td>Beta Corp</td>\n",
       "      <td>fin.101</td>\n",
       "      <td>REF001</td>\n",
       "      <td>12000.0</td>\n",
       "      <td>EUR</td>\n",
       "      <td>BINAADADXXX</td>\n",
       "      <td>0.010</td>\n",
       "      <td>2021-10-07</td>\n",
       "      <td>18:21:00</td>\n",
       "      <td>PENDING</td>\n",
       "    </tr>\n",
       "  </tbody>\n",
       "</table>\n",
       "<p>67 rows × 11 columns</p>\n",
       "</div>"
      ],
      "text/plain": [
       "       Debtor         Creditor     Type   Reference  Initial Amount Currency  \\\n",
       "1   Alpha Inc     ACME INVEST.  fin.101      REF211         10000.0      USD   \n",
       "3   Alpha Inc  ACME ONE CORP.   fin.101   REFTEST01          4537.0      USD   \n",
       "4   Alpha Inc  ACME ONE CORP.   fin.101   REFTEST01          4537.0      USD   \n",
       "5   Alpha Inc    ACME PRIVATE.  fin.101      REF211       1000000.0      USD   \n",
       "6   Alpha Inc    ACME PRIVATE.  fin.101      REF211       1000000.0      EUR   \n",
       "..        ...              ...      ...         ...             ...      ...   \n",
       "85  Alpha Inc       ALT-2 INC   fin.101  REFD202103         17430.0      USD   \n",
       "86  Alpha Inc       ALT-2 INC   fin.101  REFD202103         17430.0      USD   \n",
       "87  Alpha Inc        Beta Corp  fin.101      REF001         12000.0      USD   \n",
       "88  Alpha Inc        Beta Corp  fin.101      REF001         12000.0      USD   \n",
       "89  Alpha Inc        Beta Corp  fin.101      REF001         12000.0      EUR   \n",
       "\n",
       "           Bank  Charges       Date Time (local)     Status  \n",
       "1   BINAADADXXX    0.015 2021-03-17     15:45:00  COMPLETED  \n",
       "3   BINAADADXXX    0.010 2021-03-16     12:45:00    PENDING  \n",
       "4   BSJUARBJXXX    0.020 2021-03-18     14:15:00  COMPLETED  \n",
       "5   CHASUS3AXXX    0.010 2021-11-02     08:34:00        NEW  \n",
       "6   AGRIFRPPXXX    0.015 2021-11-03     12:40:00    PENDING  \n",
       "..          ...      ...        ...          ...        ...  \n",
       "85  CHASUS3AXXX    0.020 2021-07-12     15:41:00    PENDING  \n",
       "86  CHASUS3AXXX    0.010 2021-07-13     18:10:00  DELIVERED  \n",
       "87  CHASUS3AXXX    0.010 2021-10-05     12:43:00        NEW  \n",
       "88  CHASUS3AXXX    0.020 2021-10-05     14:32:00    PENDING  \n",
       "89  BINAADADXXX    0.010 2021-10-07     18:21:00    PENDING  \n",
       "\n",
       "[67 rows x 11 columns]"
      ]
     },
     "execution_count": 100,
     "metadata": {},
     "output_type": "execute_result"
    }
   ],
   "source": [
    "file.loc[file['Reference'].duplicated(), :]"
   ]
  },
  {
   "cell_type": "code",
   "execution_count": 101,
   "id": "ecd4bfd3",
   "metadata": {
    "scrolled": true
   },
   "outputs": [
    {
     "data": {
      "text/plain": [
       "Debtor            0\n",
       "Creditor          0\n",
       "Type              0\n",
       "Reference         0\n",
       "Initial Amount    0\n",
       "Currency          0\n",
       "Bank              0\n",
       "Charges           0\n",
       "Date              0\n",
       "Time (local)      0\n",
       "Status            0\n",
       "dtype: int64"
      ]
     },
     "execution_count": 101,
     "metadata": {},
     "output_type": "execute_result"
    }
   ],
   "source": [
    "## Missing data check\n",
    "file.isna().sum()"
   ]
  },
  {
   "cell_type": "code",
   "execution_count": 102,
   "id": "82d3988f",
   "metadata": {},
   "outputs": [
    {
     "data": {
      "text/html": [
       "<div>\n",
       "<style scoped>\n",
       "    .dataframe tbody tr th:only-of-type {\n",
       "        vertical-align: middle;\n",
       "    }\n",
       "\n",
       "    .dataframe tbody tr th {\n",
       "        vertical-align: top;\n",
       "    }\n",
       "\n",
       "    .dataframe thead th {\n",
       "        text-align: right;\n",
       "    }\n",
       "</style>\n",
       "<table border=\"1\" class=\"dataframe\">\n",
       "  <thead>\n",
       "    <tr style=\"text-align: right;\">\n",
       "      <th></th>\n",
       "      <th>Debtor</th>\n",
       "      <th>Creditor</th>\n",
       "      <th>Type</th>\n",
       "      <th>Reference</th>\n",
       "      <th>Initial Amount</th>\n",
       "      <th>Currency</th>\n",
       "      <th>Bank</th>\n",
       "      <th>Charges</th>\n",
       "      <th>Date</th>\n",
       "      <th>Time (local)</th>\n",
       "      <th>Status</th>\n",
       "    </tr>\n",
       "  </thead>\n",
       "  <tbody>\n",
       "  </tbody>\n",
       "</table>\n",
       "</div>"
      ],
      "text/plain": [
       "Empty DataFrame\n",
       "Columns: [Debtor, Creditor, Type, Reference, Initial Amount, Currency, Bank, Charges, Date, Time (local), Status]\n",
       "Index: []"
      ]
     },
     "execution_count": 102,
     "metadata": {},
     "output_type": "execute_result"
    }
   ],
   "source": [
    "#Check all the lines with missing data\n",
    "file[file.isna().any(axis=1)]"
   ]
  },
  {
   "cell_type": "code",
   "execution_count": 103,
   "id": "fafd776b",
   "metadata": {},
   "outputs": [
    {
     "data": {
      "text/html": [
       "<div>\n",
       "<style scoped>\n",
       "    .dataframe tbody tr th:only-of-type {\n",
       "        vertical-align: middle;\n",
       "    }\n",
       "\n",
       "    .dataframe tbody tr th {\n",
       "        vertical-align: top;\n",
       "    }\n",
       "\n",
       "    .dataframe thead th {\n",
       "        text-align: right;\n",
       "    }\n",
       "</style>\n",
       "<table border=\"1\" class=\"dataframe\">\n",
       "  <thead>\n",
       "    <tr style=\"text-align: right;\">\n",
       "      <th></th>\n",
       "      <th>Initial Amount</th>\n",
       "      <th>Charges</th>\n",
       "    </tr>\n",
       "  </thead>\n",
       "  <tbody>\n",
       "    <tr>\n",
       "      <th>count</th>\n",
       "      <td>90.000000</td>\n",
       "      <td>90.000000</td>\n",
       "    </tr>\n",
       "    <tr>\n",
       "      <th>mean</th>\n",
       "      <td>43723.322222</td>\n",
       "      <td>0.023444</td>\n",
       "    </tr>\n",
       "    <tr>\n",
       "      <th>std</th>\n",
       "      <td>179500.867871</td>\n",
       "      <td>0.022755</td>\n",
       "    </tr>\n",
       "    <tr>\n",
       "      <th>min</th>\n",
       "      <td>120.000000</td>\n",
       "      <td>0.010000</td>\n",
       "    </tr>\n",
       "    <tr>\n",
       "      <th>25%</th>\n",
       "      <td>1100.000000</td>\n",
       "      <td>0.010000</td>\n",
       "    </tr>\n",
       "    <tr>\n",
       "      <th>50%</th>\n",
       "      <td>4569.000000</td>\n",
       "      <td>0.015000</td>\n",
       "    </tr>\n",
       "    <tr>\n",
       "      <th>75%</th>\n",
       "      <td>12000.000000</td>\n",
       "      <td>0.020000</td>\n",
       "    </tr>\n",
       "    <tr>\n",
       "      <th>max</th>\n",
       "      <td>1000000.000000</td>\n",
       "      <td>0.080000</td>\n",
       "    </tr>\n",
       "  </tbody>\n",
       "</table>\n",
       "</div>"
      ],
      "text/plain": [
       "       Initial Amount    Charges\n",
       "count       90.000000  90.000000\n",
       "mean     43723.322222   0.023444\n",
       "std     179500.867871   0.022755\n",
       "min        120.000000   0.010000\n",
       "25%       1100.000000   0.010000\n",
       "50%       4569.000000   0.015000\n",
       "75%      12000.000000   0.020000\n",
       "max    1000000.000000   0.080000"
      ]
     },
     "execution_count": 103,
     "metadata": {},
     "output_type": "execute_result"
    }
   ],
   "source": [
    "## Data inconsistency check\n",
    "file.describe()"
   ]
  },
  {
   "cell_type": "code",
   "execution_count": 104,
   "id": "2e1f3a8c",
   "metadata": {},
   "outputs": [
    {
     "data": {
      "text/html": [
       "<div>\n",
       "<style scoped>\n",
       "    .dataframe tbody tr th:only-of-type {\n",
       "        vertical-align: middle;\n",
       "    }\n",
       "\n",
       "    .dataframe tbody tr th {\n",
       "        vertical-align: top;\n",
       "    }\n",
       "\n",
       "    .dataframe thead th {\n",
       "        text-align: right;\n",
       "    }\n",
       "</style>\n",
       "<table border=\"1\" class=\"dataframe\">\n",
       "  <thead>\n",
       "    <tr style=\"text-align: right;\">\n",
       "      <th></th>\n",
       "      <th>Debtor</th>\n",
       "      <th>Creditor</th>\n",
       "      <th>Type</th>\n",
       "      <th>Reference</th>\n",
       "      <th>Initial Amount</th>\n",
       "      <th>Currency</th>\n",
       "      <th>Bank</th>\n",
       "      <th>Charges</th>\n",
       "      <th>Date</th>\n",
       "      <th>Time (local)</th>\n",
       "      <th>Status</th>\n",
       "    </tr>\n",
       "  </thead>\n",
       "  <tbody>\n",
       "    <tr>\n",
       "      <th>0</th>\n",
       "      <td>Alpha Inc</td>\n",
       "      <td>Beta Corp</td>\n",
       "      <td>fin.101</td>\n",
       "      <td>REF211</td>\n",
       "      <td>1100.0</td>\n",
       "      <td>USD</td>\n",
       "      <td>CHASUS3AXXX</td>\n",
       "      <td>0.01</td>\n",
       "      <td>2021-03-16</td>\n",
       "      <td>18:10:00</td>\n",
       "      <td>NEW</td>\n",
       "    </tr>\n",
       "    <tr>\n",
       "      <th>1</th>\n",
       "      <td>NaN</td>\n",
       "      <td>NaN</td>\n",
       "      <td>NaN</td>\n",
       "      <td>NaN</td>\n",
       "      <td>12000.0</td>\n",
       "      <td>NaN</td>\n",
       "      <td>NaN</td>\n",
       "      <td>NaN</td>\n",
       "      <td>NaT</td>\n",
       "      <td>NaN</td>\n",
       "      <td>NaN</td>\n",
       "    </tr>\n",
       "  </tbody>\n",
       "</table>\n",
       "</div>"
      ],
      "text/plain": [
       "      Debtor   Creditor     Type Reference  Initial Amount Currency  \\\n",
       "0  Alpha Inc  Beta Corp  fin.101    REF211          1100.0      USD   \n",
       "1        NaN        NaN      NaN       NaN         12000.0      NaN   \n",
       "\n",
       "          Bank  Charges       Date Time (local) Status  \n",
       "0  CHASUS3AXXX     0.01 2021-03-16     18:10:00    NEW  \n",
       "1          NaN      NaN        NaT          NaN    NaN  "
      ]
     },
     "execution_count": 104,
     "metadata": {},
     "output_type": "execute_result"
    }
   ],
   "source": [
    "#Check the mode values\n",
    "#file.mode(self, axis=0, numeric_only=True, dropna=True)\n",
    "file.mode(numeric_only=False,dropna=True)\n",
    "#file.mode(numeric_only=False,dropna=True)['Income'][0]"
   ]
  },
  {
   "cell_type": "code",
   "execution_count": 105,
   "id": "5ca2c36f",
   "metadata": {},
   "outputs": [
    {
     "data": {
      "text/plain": [
       "<Figure size 720x432 with 0 Axes>"
      ]
     },
     "metadata": {},
     "output_type": "display_data"
    },
    {
     "data": {
      "image/png": "[encoded data removed]",
      "text/plain": [
       "<Figure size 720x432 with 1 Axes>"
      ]
     },
     "metadata": {
      "needs_background": "light"
     },
     "output_type": "display_data"
    },
    {
     "data": {
      "image/png": "[encoded data removed]",
      "text/plain": [
       "<Figure size 720x432 with 1 Axes>"
      ]
     },
     "metadata": {
      "needs_background": "light"
     },
     "output_type": "display_data"
    }
   ],
   "source": [
    "#Check Outliers\n",
    "\n",
    "# Plot the variables (loop for plot variables) for num values\n",
    "plt.figure(figsize=(10, 6))\n",
    "for col in num_df:\n",
    "    plt.figure(figsize=(10, 6))\n",
    "    file.boxplot(column=[col])\n",
    "    plt.title(col)\n",
    "    plt.savefig(col+r'.png',bbox_inches='tight')"
   ]
  },
  {
   "cell_type": "code",
   "execution_count": 106,
   "id": "aafef858",
   "metadata": {},
   "outputs": [
    {
     "data": {
      "text/html": [
       "<div>\n",
       "<style scoped>\n",
       "    .dataframe tbody tr th:only-of-type {\n",
       "        vertical-align: middle;\n",
       "    }\n",
       "\n",
       "    .dataframe tbody tr th {\n",
       "        vertical-align: top;\n",
       "    }\n",
       "\n",
       "    .dataframe thead th {\n",
       "        text-align: right;\n",
       "    }\n",
       "</style>\n",
       "<table border=\"1\" class=\"dataframe\">\n",
       "  <thead>\n",
       "    <tr style=\"text-align: right;\">\n",
       "      <th></th>\n",
       "      <th>Debtor</th>\n",
       "      <th>Creditor</th>\n",
       "      <th>Type</th>\n",
       "      <th>Reference</th>\n",
       "      <th>Initial Amount</th>\n",
       "      <th>Currency</th>\n",
       "      <th>Bank</th>\n",
       "      <th>Charges</th>\n",
       "      <th>Date</th>\n",
       "      <th>Time (local)</th>\n",
       "      <th>Status</th>\n",
       "    </tr>\n",
       "  </thead>\n",
       "  <tbody>\n",
       "    <tr>\n",
       "      <th>5</th>\n",
       "      <td>Alpha Inc</td>\n",
       "      <td>ACME PRIVATE.</td>\n",
       "      <td>fin.101</td>\n",
       "      <td>REF211</td>\n",
       "      <td>1000000.0</td>\n",
       "      <td>USD</td>\n",
       "      <td>CHASUS3AXXX</td>\n",
       "      <td>0.010</td>\n",
       "      <td>2021-11-02</td>\n",
       "      <td>08:34:00</td>\n",
       "      <td>NEW</td>\n",
       "    </tr>\n",
       "    <tr>\n",
       "      <th>6</th>\n",
       "      <td>Alpha Inc</td>\n",
       "      <td>ACME PRIVATE.</td>\n",
       "      <td>fin.101</td>\n",
       "      <td>REF211</td>\n",
       "      <td>1000000.0</td>\n",
       "      <td>EUR</td>\n",
       "      <td>AGRIFRPPXXX</td>\n",
       "      <td>0.015</td>\n",
       "      <td>2021-11-03</td>\n",
       "      <td>12:40:00</td>\n",
       "      <td>PENDING</td>\n",
       "    </tr>\n",
       "    <tr>\n",
       "      <th>7</th>\n",
       "      <td>Alpha Inc</td>\n",
       "      <td>ACME PRIVATE.</td>\n",
       "      <td>fin.101</td>\n",
       "      <td>REF211</td>\n",
       "      <td>1000000.0</td>\n",
       "      <td>EUR</td>\n",
       "      <td>REDJBY22XXX</td>\n",
       "      <td>0.015</td>\n",
       "      <td>2021-11-03</td>\n",
       "      <td>17:34:00</td>\n",
       "      <td>COMPLETED</td>\n",
       "    </tr>\n",
       "  </tbody>\n",
       "</table>\n",
       "</div>"
      ],
      "text/plain": [
       "      Debtor       Creditor     Type Reference  Initial Amount Currency  \\\n",
       "5  Alpha Inc  ACME PRIVATE.  fin.101    REF211       1000000.0      USD   \n",
       "6  Alpha Inc  ACME PRIVATE.  fin.101    REF211       1000000.0      EUR   \n",
       "7  Alpha Inc  ACME PRIVATE.  fin.101    REF211       1000000.0      EUR   \n",
       "\n",
       "          Bank  Charges       Date Time (local)     Status  \n",
       "5  CHASUS3AXXX    0.010 2021-11-02     08:34:00        NEW  \n",
       "6  AGRIFRPPXXX    0.015 2021-11-03     12:40:00    PENDING  \n",
       "7  REDJBY22XXX    0.015 2021-11-03     17:34:00  COMPLETED  "
      ]
     },
     "execution_count": 106,
     "metadata": {},
     "output_type": "execute_result"
    }
   ],
   "source": [
    "file[file['Initial Amount'] > 500000]"
   ]
  },
  {
   "cell_type": "code",
   "execution_count": 107,
   "id": "9804b520",
   "metadata": {},
   "outputs": [],
   "source": [
    "#No outlier on Initial amount after analysis"
   ]
  },
  {
   "cell_type": "code",
   "execution_count": 108,
   "id": "8ddab311",
   "metadata": {},
   "outputs": [
    {
     "data": {
      "image/png": "[encoded data removed]",
      "text/plain": [
       "<Figure size 720x432 with 1 Axes>"
      ]
     },
     "metadata": {
      "needs_background": "light"
     },
     "output_type": "display_data"
    },
    {
     "data": {
      "image/png": "[encoded data removed]",
      "text/plain": [
       "<Figure size 720x432 with 1 Axes>"
      ]
     },
     "metadata": {
      "needs_background": "light"
     },
     "output_type": "display_data"
    },
    {
     "data": {
      "image/png": "[encoded data removed]",
      "text/plain": [
       "<Figure size 720x432 with 1 Axes>"
      ]
     },
     "metadata": {
      "needs_background": "light"
     },
     "output_type": "display_data"
    },
    {
     "data": {
      "image/png": "[encoded data removed]",
      "text/plain": [
       "<Figure size 720x432 with 1 Axes>"
      ]
     },
     "metadata": {
      "needs_background": "light"
     },
     "output_type": "display_data"
    },
    {
     "data": {
      "image/png": "[encoded data removed]",
      "text/plain": [
       "<Figure size 720x432 with 1 Axes>"
      ]
     },
     "metadata": {
      "needs_background": "light"
     },
     "output_type": "display_data"
    },
    {
     "data": {
      "image/png": "[encoded data removed]",
      "text/plain": [
       "<Figure size 720x432 with 1 Axes>"
      ]
     },
     "metadata": {
      "needs_background": "light"
     },
     "output_type": "display_data"
    },
    {
     "data": {
      "image/png": "[encoded data removed]",
      "text/plain": [
       "<Figure size 720x432 with 1 Axes>"
      ]
     },
     "metadata": {
      "needs_background": "light"
     },
     "output_type": "display_data"
    },
    {
     "data": {
      "image/png": "[encoded data removed]",
      "text/plain": [
       "<Figure size 720x432 with 1 Axes>"
      ]
     },
     "metadata": {
      "needs_background": "light"
     },
     "output_type": "display_data"
    },
    {
     "data": {
      "image/png": "[encoded data removed]",
      "text/plain": [
       "<Figure size 720x432 with 1 Axes>"
      ]
     },
     "metadata": {
      "needs_background": "light"
     },
     "output_type": "display_data"
    }
   ],
   "source": [
    "for col in cat_df:\n",
    "    plt.figure(figsize=(10, 6))\n",
    "    file[col].value_counts().plot.bar()\n",
    "    plt.title(col)\n",
    "    plt.savefig(col+r'.png',bbox_inches='tight')"
   ]
  },
  {
   "cell_type": "code",
   "execution_count": 77,
   "id": "347572b7",
   "metadata": {},
   "outputs": [],
   "source": [
    "#Type column is not pertinent so to drop"
   ]
  },
  {
   "cell_type": "code",
   "execution_count": 109,
   "id": "45f96ece",
   "metadata": {},
   "outputs": [],
   "source": [
    "del file['Type']"
   ]
  },
  {
   "cell_type": "code",
   "execution_count": 110,
   "id": "6c672f3f",
   "metadata": {},
   "outputs": [
    {
     "name": "stdout",
     "output_type": "stream",
     "text": [
      "<class 'pandas.core.frame.DataFrame'>\n",
      "RangeIndex: 90 entries, 0 to 89\n",
      "Data columns (total 10 columns):\n",
      " #   Column          Non-Null Count  Dtype         \n",
      "---  ------          --------------  -----         \n",
      " 0   Debtor          90 non-null     object        \n",
      " 1   Creditor        90 non-null     object        \n",
      " 2   Reference       90 non-null     object        \n",
      " 3   Initial Amount  90 non-null     float64       \n",
      " 4   Currency        90 non-null     object        \n",
      " 5   Bank            90 non-null     object        \n",
      " 6   Charges         90 non-null     float64       \n",
      " 7   Date            90 non-null     datetime64[ns]\n",
      " 8   Time (local)    90 non-null     object        \n",
      " 9   Status          90 non-null     object        \n",
      "dtypes: datetime64[ns](1), float64(2), object(7)\n",
      "memory usage: 7.2+ KB\n"
     ]
    }
   ],
   "source": [
    "file.info()"
   ]
  },
  {
   "cell_type": "code",
   "execution_count": null,
   "id": "61150427",
   "metadata": {},
   "outputs": [],
   "source": []
  },
  {
   "cell_type": "code",
   "execution_count": 111,
   "id": "cbfedb51",
   "metadata": {},
   "outputs": [
    {
     "data": {
      "text/html": [
       "<div>\n",
       "<style scoped>\n",
       "    .dataframe tbody tr th:only-of-type {\n",
       "        vertical-align: middle;\n",
       "    }\n",
       "\n",
       "    .dataframe tbody tr th {\n",
       "        vertical-align: top;\n",
       "    }\n",
       "\n",
       "    .dataframe thead th {\n",
       "        text-align: right;\n",
       "    }\n",
       "</style>\n",
       "<table border=\"1\" class=\"dataframe\">\n",
       "  <thead>\n",
       "    <tr style=\"text-align: right;\">\n",
       "      <th></th>\n",
       "      <th>Initial Amount</th>\n",
       "      <th>Charges</th>\n",
       "    </tr>\n",
       "  </thead>\n",
       "  <tbody>\n",
       "    <tr>\n",
       "      <th>Initial Amount</th>\n",
       "      <td>1.000000</td>\n",
       "      <td>-0.087271</td>\n",
       "    </tr>\n",
       "    <tr>\n",
       "      <th>Charges</th>\n",
       "      <td>-0.087271</td>\n",
       "      <td>1.000000</td>\n",
       "    </tr>\n",
       "  </tbody>\n",
       "</table>\n",
       "</div>"
      ],
      "text/plain": [
       "                Initial Amount   Charges\n",
       "Initial Amount        1.000000 -0.087271\n",
       "Charges              -0.087271  1.000000"
      ]
     },
     "execution_count": 111,
     "metadata": {},
     "output_type": "execute_result"
    }
   ],
   "source": [
    "cor=file.corr()\n",
    "cor"
   ]
  },
  {
   "cell_type": "code",
   "execution_count": 112,
   "id": "7f941ca3",
   "metadata": {},
   "outputs": [
    {
     "name": "stdout",
     "output_type": "stream",
     "text": [
      "2020-11-20 00:00:00\n",
      "2022-01-11 00:00:00\n"
     ]
    }
   ],
   "source": [
    "#We check Date range to make sure there are not outliers\n",
    "print(file['Date'].min())\n",
    "print(file['Date'].max())\n",
    "#file['Dt_Customer'].value_counts()"
   ]
  },
  {
   "cell_type": "code",
   "execution_count": 116,
   "id": "f5cf848d",
   "metadata": {},
   "outputs": [
    {
     "data": {
      "text/plain": [
       "<Figure size 720x432 with 0 Axes>"
      ]
     },
     "metadata": {},
     "output_type": "display_data"
    },
    {
     "data": {
      "image/png": "[encoded data removed]",
      "text/plain": [
       "<Figure size 720x432 with 1 Axes>"
      ]
     },
     "metadata": {
      "needs_background": "light"
     },
     "output_type": "display_data"
    },
    {
     "data": {
      "image/png": "[encoded data removed]",
      "text/plain": [
       "<Figure size 720x432 with 1 Axes>"
      ]
     },
     "metadata": {
      "needs_background": "light"
     },
     "output_type": "display_data"
    }
   ],
   "source": [
    "#Check Outliers - once cleaned\n",
    "\n",
    "# Plot the variables (loop for plot variables) for num values\n",
    "# We look for numeric data\n",
    "#num_df = file.select_dtypes(exclude=['object'])\n",
    "plt.figure(figsize=(10, 6))\n",
    "for col in num_df:\n",
    "    plt.figure(figsize=(10, 6))\n",
    "    file.boxplot(column=[col])\n",
    "    plt.title(col)\n",
    "    plt.savefig(col+r'2.png',bbox_inches='tight')"
   ]
  },
  {
   "cell_type": "code",
   "execution_count": 119,
   "id": "b69bf5c4",
   "metadata": {},
   "outputs": [
    {
     "data": {
      "image/png": "[encoded data removed]",
      "text/plain": [
       "<Figure size 720x432 with 1 Axes>"
      ]
     },
     "metadata": {
      "needs_background": "light"
     },
     "output_type": "display_data"
    },
    {
     "data": {
      "image/png": "[encoded data removed]",
      "text/plain": [
       "<Figure size 720x432 with 1 Axes>"
      ]
     },
     "metadata": {
      "needs_background": "light"
     },
     "output_type": "display_data"
    },
    {
     "data": {
      "image/png": "[encoded data removed]",
      "text/plain": [
       "<Figure size 720x432 with 1 Axes>"
      ]
     },
     "metadata": {
      "needs_background": "light"
     },
     "output_type": "display_data"
    },
    {
     "data": {
      "image/png": "[encoded data removed]",
      "text/plain": [
       "<Figure size 720x432 with 1 Axes>"
      ]
     },
     "metadata": {
      "needs_background": "light"
     },
     "output_type": "display_data"
    },
    {
     "data": {
      "image/png": "[encoded data removed]",
      "text/plain": [
       "<Figure size 720x432 with 1 Axes>"
      ]
     },
     "metadata": {
      "needs_background": "light"
     },
     "output_type": "display_data"
    },
    {
     "data": {
      "image/png": "[encoded data removed]",
      "text/plain": [
       "<Figure size 720x432 with 1 Axes>"
      ]
     },
     "metadata": {
      "needs_background": "light"
     },
     "output_type": "display_data"
    },
    {
     "data": {
      "image/png": "[encoded data removed]",
      "text/plain": [
       "<Figure size 720x432 with 1 Axes>"
      ]
     },
     "metadata": {
      "needs_background": "light"
     },
     "output_type": "display_data"
    },
    {
     "data": {
      "image/png": "[encoded data removed]",
      "text/plain": [
       "<Figure size 720x432 with 1 Axes>"
      ]
     },
     "metadata": {
      "needs_background": "light"
     },
     "output_type": "display_data"
    }
   ],
   "source": [
    "## We look for non-numeric data\n",
    "#cat_df = file.select_dtypes(include=['object'])\n",
    "for col in cat_df:\n",
    "    plt.figure(figsize=(10, 6))\n",
    "    file[col].value_counts().plot.bar()\n",
    "    plt.title(col)\n",
    "    plt.savefig(col+r'2.png',bbox_inches='tight')"
   ]
  },
  {
   "cell_type": "code",
   "execution_count": 120,
   "id": "d05bfa46",
   "metadata": {},
   "outputs": [],
   "source": [
    "##Exporting File before encoding\n",
    "file.to_excel(r\"C:\\Users\\Michel\\git2\\Ironhack-DAFT-Project6-Descriptive_predictive_analysis_visualization_in_Tableau\\Payments_clean.xlsx\")"
   ]
  },
  {
   "cell_type": "code",
   "execution_count": null,
   "id": "3a37b8d4",
   "metadata": {},
   "outputs": [],
   "source": []
  }
 ],
 "metadata": {
  "kernelspec": {
   "display_name": "Python 3",
   "language": "python",
   "name": "python3"
  },
  "language_info": {
   "codemirror_mode": {
    "name": "ipython",
    "version": 3
   },
   "file_extension": ".py",
   "mimetype": "text/x-python",
   "name": "python",
   "nbconvert_exporter": "python",
   "pygments_lexer": "ipython3",
   "version": "3.8.8"
  }
 },
 "nbformat": 4,
 "nbformat_minor": 5
}
